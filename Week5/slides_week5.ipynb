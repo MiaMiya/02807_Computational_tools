{
 "cells": [
  {
   "cell_type": "markdown",
   "id": "19c03f0b",
   "metadata": {
    "colab_type": "text",
    "id": "view-in-github"
   },
   "source": [
    "<a href=\"https://colab.research.google.com/github/MiaMiya/02807-Computational-Tools-for-Data-Science/blob/main/Week5/slides_week5.ipynb\" target=\"_parent\"><img src=\"https://colab.research.google.com/assets/colab-badge.svg\" alt=\"Open In Colab\"/></a>"
   ]
  },
  {
   "cell_type": "markdown",
   "id": "ca75c552",
   "metadata": {
    "id": "c16136f4"
   },
   "source": [
    "# 02807 - Computational Tools for Data Science - Week 5"
   ]
  },
  {
   "cell_type": "markdown",
   "id": "cbe9f8ce",
   "metadata": {
    "id": "63ea04a5"
   },
   "source": [
    "# Today\n",
    "    \n",
    "* Use **Pandas** to \n",
    "    * Perform merge/join operations as a means of \"concatenating columns\" (combining data frames)\n",
    "    * Calculate correlation and its interpretation\n",
    "* Presentation of Project 1\n",
    "* Live group formation - please stay in auditorium if you lack a group or a group member"
   ]
  },
  {
   "cell_type": "code",
   "execution_count": 1,
   "id": "c2665e26",
   "metadata": {
    "ExecuteTime": {
     "end_time": "2021-09-28T11:45:23.422030Z",
     "start_time": "2021-09-28T11:45:23.165081Z"
    },
    "id": "22b77c6d"
   },
   "outputs": [],
   "source": [
    "import pandas as pd"
   ]
  },
  {
   "cell_type": "markdown",
   "id": "fe0f81d9",
   "metadata": {
    "id": "f6ca0c5d"
   },
   "source": [
    "# Merge/join - \"column concatenation\""
   ]
  },
  {
   "cell_type": "markdown",
   "id": "8032c07a",
   "metadata": {
    "id": "a5ee3260"
   },
   "source": [
    "* `merge` (or its simpler sibling `join`) allow us to fuse together columns from two data frames into a single data frame. \n",
    "* We typically fuse based on some common value (merge key) found in both data frames.\n",
    "    * In this way, we don't have to assume the two data frames have the exact same rows/ordering, we just specify a shared value on which the fusion takes place\n",
    "    * Merge key specified using either `on`, `left_on`/`right_on`, or `left_index`/`right_index`.\n",
    "* Output depends on join category, which is a function of the *input* data frames\n",
    "    * One-to-one: The merge key is found at most once in both data frames.\n",
    "    * Many-to-one: The merge key occurs multiple times in one of the data frames, and at most once in the other.\n",
    "    * Many-to-many: The merge key occurs multiple times in both data frames.\n",
    "    * In general, the output is a \"multiplication\" (restricted cross product) of values\n",
    "        * E.g. in a Many-to-one the \"Many\" values will be preserved in the resulting data frame with the \"one\" being duplicated.\n",
    "* Set arithmetic (via `how` specification) is e.g. `inner`, `left`, `right`, `outer`\n",
    "    *  When a value appears in one merge key column but not the other, what should happen to that value?"
   ]
  },
  {
   "cell_type": "markdown",
   "id": "e887166b",
   "metadata": {
    "id": "7e738970"
   },
   "source": [
    "We create aggregate dataframes for two different years, where then `country` is a common value in both data frames. In effect, we're dealing with a One-to-one join category."
   ]
  },
  {
   "cell_type": "code",
   "execution_count": 2,
   "id": "3b76096e",
   "metadata": {
    "ExecuteTime": {
     "end_time": "2021-09-28T11:45:23.520159Z",
     "start_time": "2021-09-28T11:45:23.422728Z"
    },
    "id": "0be34d8d"
   },
   "outputs": [],
   "source": [
    "url = 'http://courses.compute.dtu.dk/02807/2021/lectures/week4/timesData.csv'\r\n",
    "df_times = pd.read_csv(url)\r\n",
    "\r\n",
    "country_teaching_2014 = df_times[df_times.year==2014].groupby('country').agg({'teaching': 'mean'})\r\n",
    "country_teaching_2015 = df_times[df_times.year==2015].groupby('country').agg({'teaching': 'mean'})"
   ]
  },
  {
   "cell_type": "code",
   "execution_count": null,
   "id": "ea4b7144",
   "metadata": {
    "ExecuteTime": {
     "end_time": "2021-09-28T11:45:23.530774Z",
     "start_time": "2021-09-28T11:45:23.520973Z"
    },
    "id": "614a690e",
    "outputId": "1297a654-b2e7-479c-997a-c434c22b4bf0"
   },
   "outputs": [
    {
     "data": {
      "text/html": [
       "<div>\n",
       "<style scoped>\n",
       "    .dataframe tbody tr th:only-of-type {\n",
       "        vertical-align: middle;\n",
       "    }\n",
       "\n",
       "    .dataframe tbody tr th {\n",
       "        vertical-align: top;\n",
       "    }\n",
       "\n",
       "    .dataframe thead th {\n",
       "        text-align: right;\n",
       "    }\n",
       "</style>\n",
       "<table border=\"1\" class=\"dataframe\">\n",
       "  <thead>\n",
       "    <tr style=\"text-align: right;\">\n",
       "      <th></th>\n",
       "      <th>teaching</th>\n",
       "    </tr>\n",
       "    <tr>\n",
       "      <th>country</th>\n",
       "      <th></th>\n",
       "    </tr>\n",
       "  </thead>\n",
       "  <tbody>\n",
       "    <tr>\n",
       "      <th>Australia</th>\n",
       "      <td>29.857895</td>\n",
       "    </tr>\n",
       "    <tr>\n",
       "      <th>Austria</th>\n",
       "      <td>28.450000</td>\n",
       "    </tr>\n",
       "    <tr>\n",
       "      <th>Belgium</th>\n",
       "      <td>33.142857</td>\n",
       "    </tr>\n",
       "    <tr>\n",
       "      <th>Brazil</th>\n",
       "      <td>44.250000</td>\n",
       "    </tr>\n",
       "    <tr>\n",
       "      <th>Canada</th>\n",
       "      <td>36.721053</td>\n",
       "    </tr>\n",
       "  </tbody>\n",
       "</table>\n",
       "</div>"
      ],
      "text/plain": [
       "            teaching\n",
       "country             \n",
       "Australia  29.857895\n",
       "Austria    28.450000\n",
       "Belgium    33.142857\n",
       "Brazil     44.250000\n",
       "Canada     36.721053"
      ]
     },
     "metadata": {},
     "output_type": "display_data"
    },
    {
     "data": {
      "text/html": [
       "<div>\n",
       "<style scoped>\n",
       "    .dataframe tbody tr th:only-of-type {\n",
       "        vertical-align: middle;\n",
       "    }\n",
       "\n",
       "    .dataframe tbody tr th {\n",
       "        vertical-align: top;\n",
       "    }\n",
       "\n",
       "    .dataframe thead th {\n",
       "        text-align: right;\n",
       "    }\n",
       "</style>\n",
       "<table border=\"1\" class=\"dataframe\">\n",
       "  <thead>\n",
       "    <tr style=\"text-align: right;\">\n",
       "      <th></th>\n",
       "      <th>teaching</th>\n",
       "    </tr>\n",
       "    <tr>\n",
       "      <th>country</th>\n",
       "      <th></th>\n",
       "    </tr>\n",
       "  </thead>\n",
       "  <tbody>\n",
       "    <tr>\n",
       "      <th>Australia</th>\n",
       "      <td>32.320000</td>\n",
       "    </tr>\n",
       "    <tr>\n",
       "      <th>Austria</th>\n",
       "      <td>30.940000</td>\n",
       "    </tr>\n",
       "    <tr>\n",
       "      <th>Belgium</th>\n",
       "      <td>35.971429</td>\n",
       "    </tr>\n",
       "    <tr>\n",
       "      <th>Brazil</th>\n",
       "      <td>47.500000</td>\n",
       "    </tr>\n",
       "    <tr>\n",
       "      <th>Canada</th>\n",
       "      <td>38.983333</td>\n",
       "    </tr>\n",
       "  </tbody>\n",
       "</table>\n",
       "</div>"
      ],
      "text/plain": [
       "            teaching\n",
       "country             \n",
       "Australia  32.320000\n",
       "Austria    30.940000\n",
       "Belgium    35.971429\n",
       "Brazil     47.500000\n",
       "Canada     38.983333"
      ]
     },
     "metadata": {},
     "output_type": "display_data"
    }
   ],
   "source": [
    "from IPython.display import display\r\n",
    "\r\n",
    "# Observe the overlap in indices; i.e. this is the shared value/merge key\r\n",
    "display(country_teaching_2014.head(5), country_teaching_2015.head(5))"
   ]
  },
  {
   "cell_type": "markdown",
   "id": "21fc3860",
   "metadata": {
    "id": "1f0b79c1"
   },
   "source": [
    "We first see the shape differ, and then which countries differ between the two years"
   ]
  },
  {
   "cell_type": "code",
   "execution_count": null,
   "id": "3f344bbf",
   "metadata": {
    "ExecuteTime": {
     "end_time": "2021-09-28T11:45:23.534293Z",
     "start_time": "2021-09-28T11:45:23.531554Z"
    },
    "id": "68e261f9",
    "outputId": "ca22b5e1-8df5-4c7a-fe62-4109f5f8b716"
   },
   "outputs": [
    {
     "data": {
      "text/plain": [
       "((40, 1),\n",
       " (41, 1),\n",
       " Index(['Chile', 'Estonia', 'Macau', 'Morocco', 'Saudi Arabia'], dtype='object', name='country'))"
      ]
     },
     "execution_count": 4,
     "metadata": {},
     "output_type": "execute_result"
    }
   ],
   "source": [
    "countries_differing = country_teaching_2014.index.union(country_teaching_2015.index) \\\r\n",
    "                      .difference(country_teaching_2014.index.intersection(country_teaching_2015.index))\r\n",
    "\r\n",
    "country_teaching_2014.shape, country_teaching_2015.shape, countries_differing"
   ]
  },
  {
   "cell_type": "markdown",
   "id": "991062cc",
   "metadata": {
    "id": "0f37e660"
   },
   "source": [
    "Because there are such differences in country values, the type of fusion we do matter for the final result. Specifically, if a country only exists in one of the dataframes, what should happen to the values of that country?"
   ]
  },
  {
   "cell_type": "code",
   "execution_count": null,
   "id": "d3525e29",
   "metadata": {
    "ExecuteTime": {
     "end_time": "2021-09-28T11:45:23.539946Z",
     "start_time": "2021-09-28T11:45:23.534958Z"
    },
    "id": "05c383bd",
    "outputId": "87e4074d-d40c-4218-f0c2-b33cbeea4570"
   },
   "outputs": [
    {
     "data": {
      "text/html": [
       "<div>\n",
       "<style scoped>\n",
       "    .dataframe tbody tr th:only-of-type {\n",
       "        vertical-align: middle;\n",
       "    }\n",
       "\n",
       "    .dataframe tbody tr th {\n",
       "        vertical-align: top;\n",
       "    }\n",
       "\n",
       "    .dataframe thead th {\n",
       "        text-align: right;\n",
       "    }\n",
       "</style>\n",
       "<table border=\"1\" class=\"dataframe\">\n",
       "  <thead>\n",
       "    <tr style=\"text-align: right;\">\n",
       "      <th></th>\n",
       "      <th>teaching</th>\n",
       "    </tr>\n",
       "    <tr>\n",
       "      <th>country</th>\n",
       "      <th></th>\n",
       "    </tr>\n",
       "  </thead>\n",
       "  <tbody>\n",
       "    <tr>\n",
       "      <th>Estonia</th>\n",
       "      <td>20.3</td>\n",
       "    </tr>\n",
       "    <tr>\n",
       "      <th>Saudi Arabia</th>\n",
       "      <td>19.8</td>\n",
       "    </tr>\n",
       "  </tbody>\n",
       "</table>\n",
       "</div>"
      ],
      "text/plain": [
       "              teaching\n",
       "country               \n",
       "Estonia           20.3\n",
       "Saudi Arabia      19.8"
      ]
     },
     "metadata": {},
     "output_type": "display_data"
    },
    {
     "data": {
      "text/html": [
       "<div>\n",
       "<style scoped>\n",
       "    .dataframe tbody tr th:only-of-type {\n",
       "        vertical-align: middle;\n",
       "    }\n",
       "\n",
       "    .dataframe tbody tr th {\n",
       "        vertical-align: top;\n",
       "    }\n",
       "\n",
       "    .dataframe thead th {\n",
       "        text-align: right;\n",
       "    }\n",
       "</style>\n",
       "<table border=\"1\" class=\"dataframe\">\n",
       "  <thead>\n",
       "    <tr style=\"text-align: right;\">\n",
       "      <th></th>\n",
       "      <th>teaching</th>\n",
       "    </tr>\n",
       "    <tr>\n",
       "      <th>country</th>\n",
       "      <th></th>\n",
       "    </tr>\n",
       "  </thead>\n",
       "  <tbody>\n",
       "    <tr>\n",
       "      <th>Chile</th>\n",
       "      <td>13.0</td>\n",
       "    </tr>\n",
       "    <tr>\n",
       "      <th>Macau</th>\n",
       "      <td>17.1</td>\n",
       "    </tr>\n",
       "    <tr>\n",
       "      <th>Morocco</th>\n",
       "      <td>16.3</td>\n",
       "    </tr>\n",
       "  </tbody>\n",
       "</table>\n",
       "</div>"
      ],
      "text/plain": [
       "         teaching\n",
       "country          \n",
       "Chile        13.0\n",
       "Macau        17.1\n",
       "Morocco      16.3"
      ]
     },
     "metadata": {},
     "output_type": "display_data"
    }
   ],
   "source": [
    "display(country_teaching_2014[country_teaching_2014.index.isin(countries_differing)],\n",
    "        country_teaching_2015[country_teaching_2015.index.isin(countries_differing)])"
   ]
  },
  {
   "cell_type": "markdown",
   "id": "cc5b7941",
   "metadata": {
    "id": "50390dc8"
   },
   "source": [
    "## Inner merge/join: Keep countries only if present in both"
   ]
  },
  {
   "cell_type": "code",
   "execution_count": null,
   "id": "a62609f6",
   "metadata": {
    "ExecuteTime": {
     "end_time": "2021-09-28T11:45:23.545036Z",
     "start_time": "2021-09-28T11:45:23.540651Z"
    },
    "id": "9c0d37d3",
    "outputId": "c13a4e00-1992-41d7-92b8-0024ffbec914"
   },
   "outputs": [
    {
     "data": {
      "text/html": [
       "<div>\n",
       "<style scoped>\n",
       "    .dataframe tbody tr th:only-of-type {\n",
       "        vertical-align: middle;\n",
       "    }\n",
       "\n",
       "    .dataframe tbody tr th {\n",
       "        vertical-align: top;\n",
       "    }\n",
       "\n",
       "    .dataframe thead th {\n",
       "        text-align: right;\n",
       "    }\n",
       "</style>\n",
       "<table border=\"1\" class=\"dataframe\">\n",
       "  <thead>\n",
       "    <tr style=\"text-align: right;\">\n",
       "      <th></th>\n",
       "      <th>teaching_2014</th>\n",
       "      <th>teaching_2015</th>\n",
       "    </tr>\n",
       "    <tr>\n",
       "      <th>country</th>\n",
       "      <th></th>\n",
       "      <th></th>\n",
       "    </tr>\n",
       "  </thead>\n",
       "  <tbody>\n",
       "    <tr>\n",
       "      <th>Australia</th>\n",
       "      <td>29.857895</td>\n",
       "      <td>32.320000</td>\n",
       "    </tr>\n",
       "    <tr>\n",
       "      <th>Austria</th>\n",
       "      <td>28.450000</td>\n",
       "      <td>30.940000</td>\n",
       "    </tr>\n",
       "    <tr>\n",
       "      <th>Belgium</th>\n",
       "      <td>33.142857</td>\n",
       "      <td>35.971429</td>\n",
       "    </tr>\n",
       "    <tr>\n",
       "      <th>Brazil</th>\n",
       "      <td>44.250000</td>\n",
       "      <td>47.500000</td>\n",
       "    </tr>\n",
       "    <tr>\n",
       "      <th>Canada</th>\n",
       "      <td>36.721053</td>\n",
       "      <td>38.983333</td>\n",
       "    </tr>\n",
       "  </tbody>\n",
       "</table>\n",
       "</div>"
      ],
      "text/plain": [
       "           teaching_2014  teaching_2015\n",
       "country                                \n",
       "Australia      29.857895      32.320000\n",
       "Austria        28.450000      30.940000\n",
       "Belgium        33.142857      35.971429\n",
       "Brazil         44.250000      47.500000\n",
       "Canada         36.721053      38.983333"
      ]
     },
     "metadata": {},
     "output_type": "display_data"
    },
    {
     "data": {
      "text/plain": [
       "(38, 2)"
      ]
     },
     "execution_count": 6,
     "metadata": {},
     "output_type": "execute_result"
    }
   ],
   "source": [
    "country_teaching_inner = \\\n",
    "country_teaching_2014 \\\n",
    "    .merge(country_teaching_2015, how='inner', left_index=True, right_index=True, suffixes=('_2014', '_2015'))\n",
    "\n",
    "display(country_teaching_inner.head(5))\n",
    "# No NaN values; but less data than in original data frames\n",
    "country_teaching_inner.shape"
   ]
  },
  {
   "cell_type": "markdown",
   "id": "c511d258",
   "metadata": {
    "id": "69979ed6"
   },
   "source": [
    "## Left merge/join: Keep countries present in 2014 (left data frame)"
   ]
  },
  {
   "cell_type": "code",
   "execution_count": null,
   "id": "d819fefc",
   "metadata": {
    "ExecuteTime": {
     "end_time": "2021-09-28T11:45:23.551312Z",
     "start_time": "2021-09-28T11:45:23.545747Z"
    },
    "id": "76523b9c",
    "outputId": "da6a61e2-424a-4e6b-c700-a944f53fd8ae"
   },
   "outputs": [
    {
     "data": {
      "text/html": [
       "<div>\n",
       "<style scoped>\n",
       "    .dataframe tbody tr th:only-of-type {\n",
       "        vertical-align: middle;\n",
       "    }\n",
       "\n",
       "    .dataframe tbody tr th {\n",
       "        vertical-align: top;\n",
       "    }\n",
       "\n",
       "    .dataframe thead th {\n",
       "        text-align: right;\n",
       "    }\n",
       "</style>\n",
       "<table border=\"1\" class=\"dataframe\">\n",
       "  <thead>\n",
       "    <tr style=\"text-align: right;\">\n",
       "      <th></th>\n",
       "      <th>teaching_2014</th>\n",
       "      <th>teaching_2015</th>\n",
       "    </tr>\n",
       "    <tr>\n",
       "      <th>country</th>\n",
       "      <th></th>\n",
       "      <th></th>\n",
       "    </tr>\n",
       "  </thead>\n",
       "  <tbody>\n",
       "    <tr>\n",
       "      <th>Estonia</th>\n",
       "      <td>20.3</td>\n",
       "      <td>NaN</td>\n",
       "    </tr>\n",
       "    <tr>\n",
       "      <th>Saudi Arabia</th>\n",
       "      <td>19.8</td>\n",
       "      <td>NaN</td>\n",
       "    </tr>\n",
       "  </tbody>\n",
       "</table>\n",
       "</div>"
      ],
      "text/plain": [
       "              teaching_2014  teaching_2015\n",
       "country                                   \n",
       "Estonia                20.3            NaN\n",
       "Saudi Arabia           19.8            NaN"
      ]
     },
     "metadata": {},
     "output_type": "display_data"
    },
    {
     "data": {
      "text/plain": [
       "(40, 2)"
      ]
     },
     "execution_count": 7,
     "metadata": {},
     "output_type": "execute_result"
    }
   ],
   "source": [
    "country_teaching_left = \\\n",
    "country_teaching_2014 \\\n",
    "    .merge(country_teaching_2015, how='left', left_index=True, right_index=True, suffixes=('_2014', '_2015'))\n",
    "# Shape of join is same as left data frame\n",
    "display(country_teaching_left[country_teaching_left.index.isin(countries_differing)].head(5))\n",
    "country_teaching_left.shape"
   ]
  },
  {
   "cell_type": "markdown",
   "id": "5272672f",
   "metadata": {
    "id": "85135e1b"
   },
   "source": [
    "## Right merge/join: Keep countries present in 2015 (right data frame)"
   ]
  },
  {
   "cell_type": "code",
   "execution_count": null,
   "id": "96621b8b",
   "metadata": {
    "ExecuteTime": {
     "end_time": "2021-09-28T11:45:23.556505Z",
     "start_time": "2021-09-28T11:45:23.552018Z"
    },
    "id": "d9730efb",
    "outputId": "10b8bdd0-5a20-45a5-9028-16dc8b85db87"
   },
   "outputs": [
    {
     "data": {
      "text/html": [
       "<div>\n",
       "<style scoped>\n",
       "    .dataframe tbody tr th:only-of-type {\n",
       "        vertical-align: middle;\n",
       "    }\n",
       "\n",
       "    .dataframe tbody tr th {\n",
       "        vertical-align: top;\n",
       "    }\n",
       "\n",
       "    .dataframe thead th {\n",
       "        text-align: right;\n",
       "    }\n",
       "</style>\n",
       "<table border=\"1\" class=\"dataframe\">\n",
       "  <thead>\n",
       "    <tr style=\"text-align: right;\">\n",
       "      <th></th>\n",
       "      <th>teaching_2014</th>\n",
       "      <th>teaching_2015</th>\n",
       "    </tr>\n",
       "    <tr>\n",
       "      <th>country</th>\n",
       "      <th></th>\n",
       "      <th></th>\n",
       "    </tr>\n",
       "  </thead>\n",
       "  <tbody>\n",
       "    <tr>\n",
       "      <th>Chile</th>\n",
       "      <td>NaN</td>\n",
       "      <td>13.0</td>\n",
       "    </tr>\n",
       "    <tr>\n",
       "      <th>Macau</th>\n",
       "      <td>NaN</td>\n",
       "      <td>17.1</td>\n",
       "    </tr>\n",
       "    <tr>\n",
       "      <th>Morocco</th>\n",
       "      <td>NaN</td>\n",
       "      <td>16.3</td>\n",
       "    </tr>\n",
       "  </tbody>\n",
       "</table>\n",
       "</div>"
      ],
      "text/plain": [
       "         teaching_2014  teaching_2015\n",
       "country                              \n",
       "Chile              NaN           13.0\n",
       "Macau              NaN           17.1\n",
       "Morocco            NaN           16.3"
      ]
     },
     "metadata": {},
     "output_type": "display_data"
    },
    {
     "data": {
      "text/plain": [
       "(41, 2)"
      ]
     },
     "execution_count": 8,
     "metadata": {},
     "output_type": "execute_result"
    }
   ],
   "source": [
    "country_teaching_right = \\\n",
    "country_teaching_2014 \\\n",
    "    .merge(country_teaching_2015, how='right', left_index=True, right_index=True, suffixes=('_2014', '_2015'))\n",
    "# Shape of join is same as right data frame\n",
    "display(country_teaching_right[country_teaching_right.index.isin(countries_differing)].head(5))\n",
    "country_teaching_right.shape"
   ]
  },
  {
   "cell_type": "markdown",
   "id": "79f2d995",
   "metadata": {
    "id": "f440ff79"
   },
   "source": [
    "## Outer merge/join: Keep countries present in either data frame"
   ]
  },
  {
   "cell_type": "code",
   "execution_count": null,
   "id": "ee1bc93c",
   "metadata": {
    "ExecuteTime": {
     "end_time": "2021-09-28T11:45:23.564102Z",
     "start_time": "2021-09-28T11:45:23.557172Z"
    },
    "id": "a7643600",
    "outputId": "3981b9f2-cdfa-4cd1-a1cf-53cd5a7b129e"
   },
   "outputs": [
    {
     "data": {
      "text/plain": [
       "(43, 2)"
      ]
     },
     "execution_count": 9,
     "metadata": {},
     "output_type": "execute_result"
    }
   ],
   "source": [
    "country_teaching_outer = \\\n",
    "country_teaching_2014 \\\n",
    "    .merge(country_teaching_2015, how='outer', left_index=True, right_index=True, suffixes=('_2014', '_2015'))\n",
    "\n",
    "country_teaching_outer.shape\n",
    "# Shape of join as the union of the indices"
   ]
  },
  {
   "cell_type": "markdown",
   "id": "0d611e27",
   "metadata": {
    "id": "a8e3128c"
   },
   "source": [
    "Except for inner join, the other join types leave us with empty values in one of the columns, if the indices of the two dataframes are not the same (as they aren't in this example)."
   ]
  },
  {
   "cell_type": "code",
   "execution_count": null,
   "id": "75573f4c",
   "metadata": {
    "ExecuteTime": {
     "end_time": "2021-09-28T11:45:23.569479Z",
     "start_time": "2021-09-28T11:45:23.564853Z"
    },
    "id": "24255b24",
    "outputId": "8ad24033-259e-435c-a2bb-83f3236f6c3c"
   },
   "outputs": [
    {
     "data": {
      "text/html": [
       "<div>\n",
       "<style scoped>\n",
       "    .dataframe tbody tr th:only-of-type {\n",
       "        vertical-align: middle;\n",
       "    }\n",
       "\n",
       "    .dataframe tbody tr th {\n",
       "        vertical-align: top;\n",
       "    }\n",
       "\n",
       "    .dataframe thead th {\n",
       "        text-align: right;\n",
       "    }\n",
       "</style>\n",
       "<table border=\"1\" class=\"dataframe\">\n",
       "  <thead>\n",
       "    <tr style=\"text-align: right;\">\n",
       "      <th></th>\n",
       "      <th>teaching_2014</th>\n",
       "      <th>teaching_2015</th>\n",
       "    </tr>\n",
       "    <tr>\n",
       "      <th>country</th>\n",
       "      <th></th>\n",
       "      <th></th>\n",
       "    </tr>\n",
       "  </thead>\n",
       "  <tbody>\n",
       "    <tr>\n",
       "      <th>Chile</th>\n",
       "      <td>NaN</td>\n",
       "      <td>13.0</td>\n",
       "    </tr>\n",
       "    <tr>\n",
       "      <th>Estonia</th>\n",
       "      <td>20.3</td>\n",
       "      <td>NaN</td>\n",
       "    </tr>\n",
       "    <tr>\n",
       "      <th>Macau</th>\n",
       "      <td>NaN</td>\n",
       "      <td>17.1</td>\n",
       "    </tr>\n",
       "    <tr>\n",
       "      <th>Morocco</th>\n",
       "      <td>NaN</td>\n",
       "      <td>16.3</td>\n",
       "    </tr>\n",
       "    <tr>\n",
       "      <th>Saudi Arabia</th>\n",
       "      <td>19.8</td>\n",
       "      <td>NaN</td>\n",
       "    </tr>\n",
       "  </tbody>\n",
       "</table>\n",
       "</div>"
      ],
      "text/plain": [
       "              teaching_2014  teaching_2015\n",
       "country                                   \n",
       "Chile                   NaN           13.0\n",
       "Estonia                20.3            NaN\n",
       "Macau                   NaN           17.1\n",
       "Morocco                 NaN           16.3\n",
       "Saudi Arabia           19.8            NaN"
      ]
     },
     "execution_count": 10,
     "metadata": {},
     "output_type": "execute_result"
    }
   ],
   "source": [
    "# country_teaching_inner discards Chile, Macau, Morocco, Estonia, Saudi Arabia\n",
    "# country_teaching_left discards Chile, Macau, Morocco\n",
    "# country_teaching_right discards Estonia, Saudi Arabia\n",
    "country_teaching_outer.loc[countries_differing]"
   ]
  },
  {
   "cell_type": "markdown",
   "id": "5ba12b3e",
   "metadata": {
    "id": "bd058814"
   },
   "source": [
    "# Correlation: NY Hotels"
   ]
  },
  {
   "cell_type": "code",
   "execution_count": null,
   "id": "55cc011a",
   "metadata": {
    "ExecuteTime": {
     "end_time": "2021-09-28T11:45:23.702953Z",
     "start_time": "2021-09-28T11:45:23.570200Z"
    },
    "id": "c4e46926"
   },
   "outputs": [],
   "source": [
    "import matplotlib.pyplot as plt\n",
    "import numpy as np\n",
    "%matplotlib inline"
   ]
  },
  {
   "cell_type": "code",
   "execution_count": null,
   "id": "16287b72",
   "metadata": {
    "ExecuteTime": {
     "end_time": "2021-09-28T11:45:24.038534Z",
     "start_time": "2021-09-28T11:45:23.703596Z"
    },
    "id": "587b390c",
    "outputId": "a44cbb2b-6fb0-455f-c8b1-141fb42b7fd4"
   },
   "outputs": [
    {
     "data": {
      "text/html": [
       "<div>\n",
       "<style scoped>\n",
       "    .dataframe tbody tr th:only-of-type {\n",
       "        vertical-align: middle;\n",
       "    }\n",
       "\n",
       "    .dataframe tbody tr th {\n",
       "        vertical-align: top;\n",
       "    }\n",
       "\n",
       "    .dataframe thead th {\n",
       "        text-align: right;\n",
       "    }\n",
       "</style>\n",
       "<table border=\"1\" class=\"dataframe\">\n",
       "  <thead>\n",
       "    <tr style=\"text-align: right;\">\n",
       "      <th></th>\n",
       "      <th>star_rating</th>\n",
       "      <th>high_rate</th>\n",
       "    </tr>\n",
       "  </thead>\n",
       "  <tbody>\n",
       "    <tr>\n",
       "      <th>883</th>\n",
       "      <td>4.5</td>\n",
       "      <td>595.0000</td>\n",
       "    </tr>\n",
       "    <tr>\n",
       "      <th>669</th>\n",
       "      <td>2.5</td>\n",
       "      <td>179.1474</td>\n",
       "    </tr>\n",
       "    <tr>\n",
       "      <th>712</th>\n",
       "      <td>3.0</td>\n",
       "      <td>344.0000</td>\n",
       "    </tr>\n",
       "    <tr>\n",
       "      <th>1222</th>\n",
       "      <td>2.5</td>\n",
       "      <td>69.9900</td>\n",
       "    </tr>\n",
       "    <tr>\n",
       "      <th>136</th>\n",
       "      <td>3.0</td>\n",
       "      <td>139.2400</td>\n",
       "    </tr>\n",
       "    <tr>\n",
       "      <th>410</th>\n",
       "      <td>2.0</td>\n",
       "      <td>131.4400</td>\n",
       "    </tr>\n",
       "  </tbody>\n",
       "</table>\n",
       "</div>"
      ],
      "text/plain": [
       "      star_rating  high_rate\n",
       "883           4.5   595.0000\n",
       "669           2.5   179.1474\n",
       "712           3.0   344.0000\n",
       "1222          2.5    69.9900\n",
       "136           3.0   139.2400\n",
       "410           2.0   131.4400"
      ]
     },
     "execution_count": 12,
     "metadata": {},
     "output_type": "execute_result"
    }
   ],
   "source": [
    "url = 'https://raw.githubusercontent.com/s-heisler/pycon2017-optimizing-pandas/master/pyCon%20materials/new_york_hotels.csv'\n",
    "df_ny = pd.read_csv(url, encoding='cp1252')\n",
    "\n",
    "# Here pairing is done over rows, so each row represents a sample in the below equation\n",
    "df_ny[['star_rating', 'high_rate']].sample(6)"
   ]
  },
  {
   "cell_type": "code",
   "execution_count": null,
   "id": "980d75ec",
   "metadata": {
    "ExecuteTime": {
     "end_time": "2021-09-28T11:45:24.165279Z",
     "start_time": "2021-09-28T11:45:24.040386Z"
    },
    "id": "422ec742",
    "outputId": "4e353a5f-6fba-4468-a719-d4900526fa18"
   },
   "outputs": [
    {
     "data": {
      "image/png": "[encoded data removed]",
      "text/plain": [
       "<Figure size 864x360 with 2 Axes>"
      ]
     },
     "metadata": {
      "needs_background": "light"
     },
     "output_type": "display_data"
    }
   ],
   "source": [
    "fig, ax = plt.subplots(1, 2, figsize=(12, 5))\n",
    "\n",
    "# Removing elements above the 98-percentile\n",
    "df_ny_rates = df_ny[df_ny.high_rate < df_ny.high_rate.quantile(0.98)] \\\n",
    "    .dropna(subset=['star_rating', 'high_rate'])\n",
    "\n",
    "ax[0].scatter(df_ny_rates.star_rating, df_ny_rates.high_rate)\n",
    "ax[0].set_xlabel('Star Rating')\n",
    "_ = ax[0].set_ylabel('High rate')\n",
    "\n",
    "ax[1].scatter(df_ny_rates.low_rate, df_ny_rates.high_rate)\n",
    "ax[1].set_xlabel('Low rate')\n",
    "_ = ax[1].set_ylabel('High rate')\n",
    "\n",
    "# calc the regression line: How well can we predict/describe High rate based on star rating?\n",
    "# NOT the same as correlation, though overlap in use cases\n",
    "# z = np.polyfit(df_ny_rates.star_rating, df_ny_rates.high_rate, 1)\n",
    "# p = np.poly1d(z)\n",
    "# ax[0].plot(df_ny_rates.star_rating, p(df_ny_rates.star_rating),\"g--\")\n",
    "\n",
    "# z = np.polyfit(df_ny_rates.low_rate, df_ny_rates.high_rate, 1)\n",
    "# p = np.poly1d(z)\n",
    "# _ = ax[1].plot(df_ny_rates.low_rate, p(df_ny_rates.low_rate),\"g--\")\n"
   ]
  },
  {
   "cell_type": "code",
   "execution_count": null,
   "id": "abbb92b6",
   "metadata": {
    "ExecuteTime": {
     "end_time": "2021-09-28T11:45:24.168483Z",
     "start_time": "2021-09-28T11:45:24.166046Z"
    },
    "id": "ea18d842",
    "outputId": "4b52ec7a-54dc-4250-c9ae-011c15728675"
   },
   "outputs": [
    {
     "data": {
      "text/plain": [
       "(0.4578312614942432, 0.7653249765793299)"
      ]
     },
     "execution_count": 14,
     "metadata": {},
     "output_type": "execute_result"
    }
   ],
   "source": [
    "# What's the sample correlation r_{xy} for two x's and y=high_rate\n",
    "df_ny['star_rating'].corr(df_ny['high_rate']), df_ny['low_rate'].corr(df_ny['high_rate'])"
   ]
  },
  {
   "cell_type": "markdown",
   "id": "67886982",
   "metadata": {
    "id": "af96141a"
   },
   "source": [
    "The sample Pearson correlation coefficient over paired samples $\\{ (x_1,y_1),\\ldots,(x_n,y_n) \\}$ is given by\n",
    "\n",
    "$r_{xy} =\\frac{\\sum ^n _{i=1}(x_i - \\bar{x})(y_i - \\bar{y})}{\\sqrt{\\sum ^n _{i=1}(x_i - \\bar{x})^2} \\sqrt{\\sum ^n _{i=1}(y_i - \\bar{y})^2}}$\n",
    "\n",
    "where:\n",
    "\n",
    "* $n$ is sample size\n",
    "* $x_i, y_i$ are the individual sample points indexed with $i$\n",
    "* $\\bar{x} = \\frac{1}{n} \\sum_{i=1}^n x_i$ (is the sample mean); and analogously for $\\bar{y}$\n",
    "\n",
    "$r_{xy}$ indicates the extent to which the two variables $x$ and $y$ \"move\" together. Consider in particular the cases where the numerator is always either positive or negative on a given dataset.\n",
    "\n",
    "Consider the image below for interpretation of $r_{xy}$. \n",
    "\n",
    "![corr](data:image/png;base64,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)"
   ]
  },
  {
   "cell_type": "code",
   "execution_count": null,
   "id": "1f84aa17",
   "metadata": {
    "ExecuteTime": {
     "end_time": "2021-09-28T11:45:24.174147Z",
     "start_time": "2021-09-28T11:45:24.169117Z"
    },
    "id": "ca014b45",
    "outputId": "27c3a54a-0f91-496b-e327-9e9f08f34d34"
   },
   "outputs": [
    {
     "data": {
      "text/html": [
       "<div>\n",
       "<style scoped>\n",
       "    .dataframe tbody tr th:only-of-type {\n",
       "        vertical-align: middle;\n",
       "    }\n",
       "\n",
       "    .dataframe tbody tr th {\n",
       "        vertical-align: top;\n",
       "    }\n",
       "\n",
       "    .dataframe thead th {\n",
       "        text-align: right;\n",
       "    }\n",
       "</style>\n",
       "<table border=\"1\" class=\"dataframe\">\n",
       "  <thead>\n",
       "    <tr style=\"text-align: right;\">\n",
       "      <th></th>\n",
       "      <th>ean_hotel_id</th>\n",
       "      <th>latitude</th>\n",
       "      <th>longitude</th>\n",
       "      <th>star_rating</th>\n",
       "      <th>high_rate</th>\n",
       "      <th>low_rate</th>\n",
       "    </tr>\n",
       "  </thead>\n",
       "  <tbody>\n",
       "    <tr>\n",
       "      <th>0</th>\n",
       "      <td>-0.009524</td>\n",
       "      <td>-0.231536</td>\n",
       "      <td>0.152842</td>\n",
       "      <td>0.457831</td>\n",
       "      <td>1.0</td>\n",
       "      <td>0.765325</td>\n",
       "    </tr>\n",
       "  </tbody>\n",
       "</table>\n",
       "</div>"
      ],
      "text/plain": [
       "   ean_hotel_id  latitude  longitude  star_rating  high_rate  low_rate\n",
       "0     -0.009524 -0.231536   0.152842     0.457831        1.0  0.765325"
      ]
     },
     "execution_count": 15,
     "metadata": {},
     "output_type": "execute_result"
    }
   ],
   "source": [
    "# Compute correlation of all columns with high_rate\n",
    "df_ny.corrwith(df_ny.high_rate).to_frame().T"
   ]
  },
  {
   "cell_type": "code",
   "execution_count": null,
   "id": "1977f018",
   "metadata": {
    "ExecuteTime": {
     "end_time": "2021-09-28T11:45:24.179245Z",
     "start_time": "2021-09-28T11:45:24.174827Z"
    },
    "id": "797be06f",
    "outputId": "fbaaaeb4-7331-4642-fe71-faddf3bb70e0"
   },
   "outputs": [
    {
     "data": {
      "text/html": [
       "<div>\n",
       "<style scoped>\n",
       "    .dataframe tbody tr th:only-of-type {\n",
       "        vertical-align: middle;\n",
       "    }\n",
       "\n",
       "    .dataframe tbody tr th {\n",
       "        vertical-align: top;\n",
       "    }\n",
       "\n",
       "    .dataframe thead th {\n",
       "        text-align: right;\n",
       "    }\n",
       "</style>\n",
       "<table border=\"1\" class=\"dataframe\">\n",
       "  <thead>\n",
       "    <tr style=\"text-align: right;\">\n",
       "      <th></th>\n",
       "      <th>ean_hotel_id</th>\n",
       "      <th>latitude</th>\n",
       "      <th>longitude</th>\n",
       "      <th>star_rating</th>\n",
       "      <th>high_rate</th>\n",
       "      <th>low_rate</th>\n",
       "    </tr>\n",
       "  </thead>\n",
       "  <tbody>\n",
       "    <tr>\n",
       "      <th>ean_hotel_id</th>\n",
       "      <td>1.000000</td>\n",
       "      <td>-0.105138</td>\n",
       "      <td>0.045289</td>\n",
       "      <td>0.065347</td>\n",
       "      <td>-0.009524</td>\n",
       "      <td>0.031447</td>\n",
       "    </tr>\n",
       "    <tr>\n",
       "      <th>latitude</th>\n",
       "      <td>-0.105138</td>\n",
       "      <td>1.000000</td>\n",
       "      <td>-0.574376</td>\n",
       "      <td>-0.369289</td>\n",
       "      <td>-0.231536</td>\n",
       "      <td>-0.253724</td>\n",
       "    </tr>\n",
       "    <tr>\n",
       "      <th>longitude</th>\n",
       "      <td>0.045289</td>\n",
       "      <td>-0.574376</td>\n",
       "      <td>1.000000</td>\n",
       "      <td>0.244953</td>\n",
       "      <td>0.152842</td>\n",
       "      <td>0.178270</td>\n",
       "    </tr>\n",
       "    <tr>\n",
       "      <th>star_rating</th>\n",
       "      <td>0.065347</td>\n",
       "      <td>-0.369289</td>\n",
       "      <td>0.244953</td>\n",
       "      <td>1.000000</td>\n",
       "      <td>0.457831</td>\n",
       "      <td>0.441211</td>\n",
       "    </tr>\n",
       "    <tr>\n",
       "      <th>high_rate</th>\n",
       "      <td>-0.009524</td>\n",
       "      <td>-0.231536</td>\n",
       "      <td>0.152842</td>\n",
       "      <td>0.457831</td>\n",
       "      <td>1.000000</td>\n",
       "      <td>0.765325</td>\n",
       "    </tr>\n",
       "    <tr>\n",
       "      <th>low_rate</th>\n",
       "      <td>0.031447</td>\n",
       "      <td>-0.253724</td>\n",
       "      <td>0.178270</td>\n",
       "      <td>0.441211</td>\n",
       "      <td>0.765325</td>\n",
       "      <td>1.000000</td>\n",
       "    </tr>\n",
       "  </tbody>\n",
       "</table>\n",
       "</div>"
      ],
      "text/plain": [
       "              ean_hotel_id  latitude  longitude  star_rating  high_rate  \\\n",
       "ean_hotel_id      1.000000 -0.105138   0.045289     0.065347  -0.009524   \n",
       "latitude         -0.105138  1.000000  -0.574376    -0.369289  -0.231536   \n",
       "longitude         0.045289 -0.574376   1.000000     0.244953   0.152842   \n",
       "star_rating       0.065347 -0.369289   0.244953     1.000000   0.457831   \n",
       "high_rate        -0.009524 -0.231536   0.152842     0.457831   1.000000   \n",
       "low_rate          0.031447 -0.253724   0.178270     0.441211   0.765325   \n",
       "\n",
       "              low_rate  \n",
       "ean_hotel_id  0.031447  \n",
       "latitude     -0.253724  \n",
       "longitude     0.178270  \n",
       "star_rating   0.441211  \n",
       "high_rate     0.765325  \n",
       "low_rate      1.000000  "
      ]
     },
     "execution_count": 16,
     "metadata": {},
     "output_type": "execute_result"
    }
   ],
   "source": [
    "# Compute correlation for all pairs of columns\n",
    "# It's a symmetric matrix with 1's in the diagonal\n",
    "# Observe the values we also found in the code cells above appears here\n",
    "# Is applied only to numeric columns\n",
    "df_ny.corr()"
   ]
  },
  {
   "cell_type": "code",
   "execution_count": null,
   "id": "24b4da3d",
   "metadata": {
    "ExecuteTime": {
     "end_time": "2021-09-28T11:45:24.488094Z",
     "start_time": "2021-09-28T11:45:24.180147Z"
    },
    "id": "dfcfa033",
    "outputId": "71f7c55f-d69c-4269-abc5-8d5ca25a7bca"
   },
   "outputs": [
    {
     "data": {
      "image/png": "[encoded data removed]",
      "text/plain": [
       "<Figure size 432x288 with 2 Axes>"
      ]
     },
     "metadata": {
      "needs_background": "light"
     },
     "output_type": "display_data"
    }
   ],
   "source": [
    "# Get a heat-map visualisation of the correlation matrix\n",
    "import seaborn as sns\n",
    "sns.heatmap(df_ny.corr(), annot=True)\n",
    "plt.show()"
   ]
  },
  {
   "cell_type": "markdown",
   "id": "969656a1",
   "metadata": {
    "id": "49026b43"
   },
   "source": [
    "# Practical take-away\n",
    "\n",
    "* To combine columns from data frames, using a column whose values appear in both, use `merge`/`join`\n",
    "    * If there's missing merge keys, the `how` (inner, outer, left, right) determines what happens to unmatched rows\n",
    "* Pandas can compute correlation statistics for us, telling us how much paired sample data \"moves together\""
   ]
  }
 ],
 "metadata": {
  "colab": {
   "include_colab_link": true,
   "name": "slides_week5.ipynb",
   "provenance": []
  },
  "interpreter": {
   "hash": "0600588c3b5f4418cbe7b5ebc6825b479f3bc010269d8b60d75058cdd010adfe"
  },
  "kernelspec": {
   "display_name": "Python 3 (ipykernel)",
   "language": "python",
   "name": "python3"
  },
  "language_info": {
   "codemirror_mode": {
    "name": "ipython",
    "version": 3
   },
   "file_extension": ".py",
   "mimetype": "text/x-python",
   "name": "python",
   "nbconvert_exporter": "python",
   "pygments_lexer": "ipython3",
   "version": "3.7.9"
  },
  "toc": {
   "base_numbering": 1,
   "nav_menu": {},
   "number_sections": true,
   "sideBar": true,
   "skip_h1_title": false,
   "title_cell": "Table of Contents",
   "title_sidebar": "Contents",
   "toc_cell": false,
   "toc_position": {},
   "toc_section_display": true,
   "toc_window_display": true
  }
 },
 "nbformat": 4,
 "nbformat_minor": 5
}
