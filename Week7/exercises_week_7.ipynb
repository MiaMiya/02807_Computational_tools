{
 "cells": [
  {
   "cell_type": "markdown",
   "metadata": {
    "colab_type": "text",
    "id": "view-in-github"
   },
   "source": [
    "<a href=\"https://colab.research.google.com/github/MiaMiya/02807-Computational-Tools-for-Data-Science/blob/main/Week7/exercises_week_7.ipynb\" target=\"_parent\"><img src=\"https://colab.research.google.com/assets/colab-badge.svg\" alt=\"Open In Colab\"/></a>"
   ]
  },
  {
   "cell_type": "markdown",
   "metadata": {
    "id": "vlMcbNUbMqnF"
   },
   "source": [
    "# 02807 - Week 7 Exercises:  Getting started with Spark"
   ]
  },
  {
   "cell_type": "markdown",
   "metadata": {
    "id": "eXQzA01OS_yQ"
   },
   "source": [
    "# Setup\n",
    "\n",
    "* See also this week's slides for context"
   ]
  },
  {
   "cell_type": "code",
   "execution_count": 1,
   "metadata": {
    "ExecuteTime": {
     "end_time": "2021-10-11T19:21:00.219855Z",
     "start_time": "2021-10-11T19:20:59.476023Z"
    },
    "id": "1GhySUCiqUMZ",
    "outputId": "5b9e2c25-2fca-4bfb-cdd8-5ab815fece95"
   },
   "outputs": [
    {
     "name": "stdout",
     "output_type": "stream",
     "text": [
      "Defaulting to user installation because normal site-packages is not writeable\n",
      "Requirement already satisfied: pyspark in c:\\users\\miaha\\appdata\\roaming\\python\\python37\\site-packages (3.1.2)\n",
      "Requirement already satisfied: py4j==0.10.9 in c:\\users\\miaha\\appdata\\roaming\\python\\python37\\site-packages (from pyspark) (0.10.9)\n"
     ]
    }
   ],
   "source": [
    "!pip install pyspark"
   ]
  },
  {
   "cell_type": "code",
   "execution_count": 2,
   "metadata": {
    "ExecuteTime": {
     "end_time": "2021-10-11T19:21:00.223652Z",
     "start_time": "2021-10-11T19:21:00.221268Z"
    },
    "id": "dhzk3GE6S9RC"
   },
   "outputs": [],
   "source": [
    "# Instructions on p. 20 Learning Spark, 2nd ed.\n",
    "# Here's a quick-guide, googling may also be required\n",
    "# 1) Install pyspark via conda/pip\n",
    "#          pyspark requires the JAVA_HOME environment variable is set.\n",
    "# 2) Install JRE/JDK, figure out the install location\n",
    "#          You will need to install Java 8 or above\n",
    "# 3) Update the JAVA_HOME environment variable set programmatically below \n",
    "#    with your installation specifics\n",
    "\n",
    "# Some maybe helpful pointers on JRE/JDK:\n",
    "# MacOS: Consider using https://github.com/AdoptOpenJDK/homebrew-openjdk\n",
    "# Debian (colab): !apt install openjdk-8-jdk-headless -qq\n",
    "# Windows: \n",
    "#    If you didn't change the path during installation, it'll be \n",
    "#    something like C:\\Program Files\\Java\\jdk1.8.0_65\n",
    "#    You can also type where java at the command prompt.\n",
    "\n",
    "# JAVA_HOME environment variable is set programatically below\n",
    "# but you must point it to your local install\n",
    "\n",
    "import os\n",
    "os.environ[\"JAVA_HOME\"] = \"C:\\Programmer\\Java\\jdk-14.0.2\"\n",
    "os.environ['PYSPARK_PYTHON'] = 'python'\n",
    "os.environ['PYSPARK_DRIVER_PYTHON'] = 'jupyter'\n",
    "os.environ['PYSPARK_DRIVER_PYTHON_OPTS'] = 'notebook'"
   ]
  },
  {
   "cell_type": "code",
   "execution_count": 3,
   "metadata": {
    "ExecuteTime": {
     "end_time": "2021-10-11T19:21:00.533785Z",
     "start_time": "2021-10-11T19:21:00.224806Z"
    },
    "id": "xgQaRx6rSaf9"
   },
   "outputs": [],
   "source": [
    "import pandas as pd\n",
    "import pyspark\n",
    "from pyspark.sql import SparkSession\n",
    "from pyspark.sql import functions as F\n",
    "from pyspark import SparkContext, SparkConf"
   ]
  },
  {
   "cell_type": "markdown",
   "metadata": {
    "id": "uUD5XpD_SagA"
   },
   "source": [
    "Let's initialise a **Spark Session**. \n",
    "* A SparkSession object is the entry point to the Spark functionality. \n",
    "* When you create the SparkSession object, it initiates a **Spark Application** which all the code for that Session will run on.\n"
   ]
  },
  {
   "cell_type": "code",
   "execution_count": 4,
   "metadata": {
    "ExecuteTime": {
     "end_time": "2021-10-11T19:21:04.257817Z",
     "start_time": "2021-10-11T19:21:00.534459Z"
    },
    "id": "7ft3VivrSagB"
   },
   "outputs": [],
   "source": [
    "# create the Spark session\n",
    "conf = SparkConf().set(\"spark.ui.port\", \"4050\")\n",
    "sc = pyspark.SparkContext(conf=conf)\n",
    "spark = SparkSession.builder.getOrCreate()"
   ]
  },
  {
   "cell_type": "code",
   "execution_count": 5,
   "metadata": {
    "ExecuteTime": {
     "end_time": "2021-10-11T19:21:04.981186Z",
     "start_time": "2021-10-11T19:21:04.258838Z"
    },
    "id": "wbOzSvZIqUMd",
    "outputId": "2259311a-92a7-4c97-ec8e-5a5b634f352b"
   },
   "outputs": [
    {
     "data": {
      "text/html": [
       "\n",
       "            <div>\n",
       "                <p><b>SparkSession - in-memory</b></p>\n",
       "                \n",
       "        <div>\n",
       "            <p><b>SparkContext</b></p>\n",
       "\n",
       "            <p><a href=\"http://DESKTOP-EIPJJ6T.home:4050\">Spark UI</a></p>\n",
       "\n",
       "            <dl>\n",
       "              <dt>Version</dt>\n",
       "                <dd><code>v3.1.2</code></dd>\n",
       "              <dt>Master</dt>\n",
       "                <dd><code>local[*]</code></dd>\n",
       "              <dt>AppName</dt>\n",
       "                <dd><code>pyspark-shell</code></dd>\n",
       "            </dl>\n",
       "        </div>\n",
       "        \n",
       "            </div>\n",
       "        "
      ],
      "text/plain": [
       "<pyspark.sql.session.SparkSession at 0x15cdc990448>"
      ]
     },
     "execution_count": 5,
     "metadata": {},
     "output_type": "execute_result"
    }
   ],
   "source": [
    "spark"
   ]
  },
  {
   "cell_type": "markdown",
   "metadata": {
    "id": "2ectQxRreAvJ"
   },
   "source": [
    "# Exercise 1: The Titanic Dataset\n",
    "\n",
    "In this exercise you should use Spark to count the number of Titanic passengers in different age brackets. More specifically, you need to count the number of people age 0 to 9, 10 to 19, and so on.\n",
    "\n",
    "The data is available [here](https://courses.compute.dtu.dk/02807/2021/lectures/week7/titanic_full.csv) and should be loaded into a dataframe in the next cell."
   ]
  },
  {
   "cell_type": "code",
   "execution_count": 6,
   "metadata": {
    "ExecuteTime": {
     "end_time": "2021-10-11T19:23:58.310858Z",
     "start_time": "2021-10-11T19:23:58.307788Z"
    },
    "id": "my6Awbl-e4AO"
   },
   "outputs": [],
   "source": [
    "# Your code goes here\n",
    "# Load data\n",
    "df = spark.read.format('jdbc').option('header', True) \\\n",
    "                .option('inferSchema', True) \\\n",
    "                .csv('titanic_full.csv')"
   ]
  },
  {
   "cell_type": "markdown",
   "metadata": {
    "id": "kSZvg7eOe7ok"
   },
   "source": [
    "## Cleaning the data\n",
    "\n",
    "Remove the rows that do not have an age \n"
   ]
  },
  {
   "cell_type": "code",
   "execution_count": 11,
   "metadata": {
    "ExecuteTime": {
     "end_time": "2021-10-11T19:24:01.014994Z",
     "start_time": "2021-10-11T19:24:01.013008Z"
    },
    "id": "OJrRTjQLfTsq"
   },
   "outputs": [
    {
     "name": "stdout",
     "output_type": "stream",
     "text": [
      "root\n",
      " |-- PassengerId: integer (nullable = true)\n",
      " |-- Survived: integer (nullable = true)\n",
      " |-- Pclass: integer (nullable = true)\n",
      " |-- Name: string (nullable = true)\n",
      " |-- Sex: string (nullable = true)\n",
      " |-- Age: double (nullable = true)\n",
      " |-- SibSp: integer (nullable = true)\n",
      " |-- Parch: integer (nullable = true)\n",
      " |-- Ticket: string (nullable = true)\n",
      " |-- Fare: double (nullable = true)\n",
      " |-- Cabin: string (nullable = true)\n",
      " |-- Embarked: string (nullable = true)\n",
      "\n",
      "+-----------+--------+------+--------------------+------+----+-----+-----+----------------+-------+-----+--------+\n",
      "|PassengerId|Survived|Pclass|                Name|   Sex| Age|SibSp|Parch|          Ticket|   Fare|Cabin|Embarked|\n",
      "+-----------+--------+------+--------------------+------+----+-----+-----+----------------+-------+-----+--------+\n",
      "|          1|       0|     3|Braund, Mr. Owen ...|  male|22.0|    1|    0|       A/5 21171|   7.25| null|       S|\n",
      "|          2|       1|     1|Cumings, Mrs. Joh...|female|38.0|    1|    0|        PC 17599|71.2833|  C85|       C|\n",
      "|          3|       1|     3|Heikkinen, Miss. ...|female|26.0|    0|    0|STON/O2. 3101282|  7.925| null|       S|\n",
      "|          4|       1|     1|Futrelle, Mrs. Ja...|female|35.0|    1|    0|          113803|   53.1| C123|       S|\n",
      "|          5|       0|     3|Allen, Mr. Willia...|  male|35.0|    0|    0|          373450|   8.05| null|       S|\n",
      "+-----------+--------+------+--------------------+------+----+-----+-----+----------------+-------+-----+--------+\n",
      "only showing top 5 rows\n",
      "\n"
     ]
    }
   ],
   "source": [
    "# Your code goes here\n",
    "df.c\n",
    "df = df.filter(F.col('Age').isNotNull())\n",
    "df.show(5)"
   ]
  },
  {
   "cell_type": "markdown",
   "metadata": {
    "id": "0jzO0ggSfAFs"
   },
   "source": [
    "## Adding age brackets \n",
    "\n",
    "Create a new column with a value that identifies the bracket that passengers are in"
   ]
  },
  {
   "cell_type": "code",
   "execution_count": 13,
   "metadata": {
    "ExecuteTime": {
     "end_time": "2021-10-11T19:24:05.737832Z",
     "start_time": "2021-10-11T19:24:05.735848Z"
    },
    "id": "S2bOTGcpfIES"
   },
   "outputs": [
    {
     "name": "stdout",
     "output_type": "stream",
     "text": [
      "+----+-------------+-------------+\n",
      "| Age|AgeBracketUDF|AgeBracketDiv|\n",
      "+----+-------------+-------------+\n",
      "|22.0|        20-29|           20|\n",
      "|38.0|        30-39|           30|\n",
      "|26.0|        20-29|           20|\n",
      "|35.0|        30-39|           30|\n",
      "|35.0|        30-39|           30|\n",
      "|54.0|        50-59|           50|\n",
      "| 2.0|          0-9|            0|\n",
      "|27.0|        20-29|           20|\n",
      "|14.0|        10-19|           10|\n",
      "| 4.0|          0-9|            0|\n",
      "|58.0|        50-59|           50|\n",
      "|20.0|        20-29|           20|\n",
      "|39.0|        30-39|           30|\n",
      "|14.0|        10-19|           10|\n",
      "|55.0|        50-59|           50|\n",
      "| 2.0|          0-9|            0|\n",
      "|31.0|        30-39|           30|\n",
      "|35.0|        30-39|           30|\n",
      "|34.0|        30-39|           30|\n",
      "|15.0|        10-19|           10|\n",
      "+----+-------------+-------------+\n",
      "only showing top 20 rows\n",
      "\n"
     ]
    }
   ],
   "source": [
    "# Your code goes here\n",
    "def age_bracket(age):\n",
    "    for bracket in range(10, 150, 10):\n",
    "        if age < bracket:\n",
    "            return f\"{bracket-10}-{bracket-1}\"\n",
    "        \n",
    "age_bracket_udf = F.udf(age_bracket)\n",
    "\n",
    "df = df.withColumn('AgeBracketUDF', age_bracket_udf(F.col('Age'))) \\\n",
    "        .withColumn('AgeBracketDiv', (F.col('Age') / 10).cast('integer')*10)\n",
    "\n",
    "df.select('Age', 'AgeBracketUDF', 'AgeBracketDiv').show()\n"
   ]
  },
  {
   "cell_type": "markdown",
   "metadata": {
    "id": "qCLsqtqVfKwb"
   },
   "source": [
    "## Age bracket counts\n",
    "\n",
    "Create a Spark dataframe with the sum of passengers in each bracket, and sort it by Age Bracket (youngest to oldest)."
   ]
  },
  {
   "cell_type": "code",
   "execution_count": 20,
   "metadata": {
    "ExecuteTime": {
     "end_time": "2021-10-11T19:24:11.572357Z",
     "start_time": "2021-10-11T19:24:11.569948Z"
    },
    "id": "wm9fldBlfVmK"
   },
   "outputs": [
    {
     "name": "stdout",
     "output_type": "stream",
     "text": [
      "+-------------+-----+\n",
      "|AgeBracketUDF|count|\n",
      "+-------------+-----+\n",
      "|          0-9|   62|\n",
      "|        10-19|  102|\n",
      "|        20-29|  220|\n",
      "|        30-39|  167|\n",
      "|        40-49|   89|\n",
      "|        50-59|   48|\n",
      "|        60-69|   19|\n",
      "|        70-79|    6|\n",
      "|        80-89|    1|\n",
      "+-------------+-----+\n",
      "\n"
     ]
    }
   ],
   "source": [
    "# Your code goes here\n",
    "df.groupBy('AgeBracketUDF', 'AgeBracketDiv') \\\n",
    "    .agg(F.count('AgeBracketUDF'), F.count('AgeBracketDiv')) \\\n",
    "    .sort('AgeBracketUDF', 'AgeBracketDiv') \\\n",
    "    .collect()\n",
    "\n",
    "# or \n",
    "df.groupBy('AgeBracketUDF').count().sort('AgeBracketUDF').show()"
   ]
  },
  {
   "cell_type": "markdown",
   "metadata": {
    "id": "maPaG1puqUMg"
   },
   "source": [
    "## Spark plans and jobs\n",
    "\n",
    "1) Display the plans spark creates to achieve your query in the previous exercise. Identify how many shuffles/exchanges are to take place.\n",
    "\n",
    "2) How many jobs are spawned when your query is executed? (Inspect via the Spark UI)"
   ]
  },
  {
   "cell_type": "markdown",
   "metadata": {
    "id": "50PA5SneqUMg"
   },
   "source": [
    "*Your answers here*"
   ]
  },
  {
   "cell_type": "code",
   "execution_count": 21,
   "metadata": {
    "ExecuteTime": {
     "end_time": "2021-10-11T19:24:18.049147Z",
     "start_time": "2021-10-11T19:24:18.047166Z"
    },
    "id": "zl0TZINXqUMh"
   },
   "outputs": [
    {
     "name": "stdout",
     "output_type": "stream",
     "text": [
      "== Physical Plan ==\n",
      "*(4) Sort [AgeBracketUDF#274 ASC NULLS FIRST], true, 0\n",
      "+- Exchange rangepartitioning(AgeBracketUDF#274 ASC NULLS FIRST, 200), ENSURE_REQUIREMENTS, [id=#502]\n",
      "   +- *(3) HashAggregate(keys=[AgeBracketUDF#274], functions=[count(1)])\n",
      "      +- Exchange hashpartitioning(AgeBracketUDF#274, 200), ENSURE_REQUIREMENTS, [id=#498]\n",
      "         +- *(2) HashAggregate(keys=[AgeBracketUDF#274], functions=[partial_count(1)])\n",
      "            +- *(2) Project [pythonUDF0#539 AS AgeBracketUDF#274]\n",
      "               +- BatchEvalPython [age_bracket(Age#21)], [pythonUDF0#539]\n",
      "                  +- *(1) Filter isnotnull(Age#21)\n",
      "                     +- FileScan csv [Age#21] Batched: false, DataFilters: [isnotnull(Age#21)], Format: CSV, Location: InMemoryFileIndex[file:/C:/Users/miaha/OneDrive/Dokumenter/DTU/Msc/1.Semester/02807-Computational..., PartitionFilters: [], PushedFilters: [IsNotNull(Age)], ReadSchema: struct<Age:double>\n",
      "\n",
      "\n"
     ]
    }
   ],
   "source": [
    "# Your code goes here\n",
    "df.groupBy('AgeBracketUDF').count().sort('AgeBracketUDF').explain()"
   ]
  },
  {
   "cell_type": "markdown",
   "metadata": {
    "id": "hvB1CeqSfYXP"
   },
   "source": [
    "# Exercise 2: Actions and transformations\n",
    "\n",
    "For each of the following Spark operations, decide if they are transformations or actions. If they are transformations, determine if they are wide or narrow.\n",
    "\n",
    "* ``select()``\n",
    "* `groupBy()`\n",
    "* `filter()`\n",
    "* `where()`\n",
    "* `count()`\n",
    "* `show()`\n",
    "* `agg()`\n",
    "* `write()`\n",
    "* `sort()`"
   ]
  },
  {
   "cell_type": "markdown",
   "metadata": {
    "id": "4MQ2mtJLfu5_"
   },
   "source": [
    "*Your answers here*\n",
    "\n",
    "* `select()` is a narrow transformation\n",
    "* `groupBy()` is a wide transformation as we must gather groups from different partitions\n",
    "* `filter()` is a narrow transformation - we can filter each individual partition\n",
    "* `where()` is a narrow transformation, an alias for filter\n",
    "* `count()` is an action, or a wide transformation when done on a groupeddataset\n",
    "* `show()` is an action\n",
    "* `agg()` is a wide transformation\n",
    "* `write()` is an action \n",
    "* `sort` is a wide transformation as we must sort across partitions"
   ]
  },
  {
   "cell_type": "markdown",
   "metadata": {
    "id": "wztxj5t_6m-h"
   },
   "source": [
    "# Exercise 3: Exploratory data analysis for the Chicago crime dataset\n",
    "The Chicago Crime dataset contains a summary of the reported crimes occurred in the City of Chicago from 2001 to 2017. \n",
    "\n",
    "We'll work on a sample of it available [here](https://courses.compute.dtu.dk/02807/2021/lectures/week7/reported-crimes.csv).\n",
    "\n",
    "You may optionally work on the entire dataset which is available [here](https://data.cityofchicago.org/api/views/ijzp-q8t2/rows.csv?accessType=DOWNLOAD).\n",
    "\n",
    "Now load the data you've downloaded locally into a spark dataframe, and proceed to answer the questions below."
   ]
  },
  {
   "cell_type": "code",
   "execution_count": 40,
   "metadata": {
    "ExecuteTime": {
     "end_time": "2021-10-11T19:24:30.398620Z",
     "start_time": "2021-10-11T19:24:30.396458Z"
    },
    "id": "EfnqE8Jx_Eve"
   },
   "outputs": [
    {
     "name": "stdout",
     "output_type": "stream",
     "text": [
      "['ID', 'CASE_NUMBER', 'DATE', 'BLOCK', 'IUCR', 'PRIMARY_TYPE', 'DESCRIPTION', 'LOCATION_DESCRIPTION', 'ARREST', 'DOMESTIC', 'BEAT', 'DISTRICT', 'WARD', 'COMMUNITY_AREA_NUMBER', 'FBICODE', 'X_COORDINATE', 'Y_COORDINATE', 'YEAR', 'UPDATEDON', 'LATITUDE', 'LONGITUDE', 'LOCATION']\n"
     ]
    },
    {
     "data": {
      "text/html": [
       "<div>\n",
       "<style scoped>\n",
       "    .dataframe tbody tr th:only-of-type {\n",
       "        vertical-align: middle;\n",
       "    }\n",
       "\n",
       "    .dataframe tbody tr th {\n",
       "        vertical-align: top;\n",
       "    }\n",
       "\n",
       "    .dataframe thead th {\n",
       "        text-align: right;\n",
       "    }\n",
       "</style>\n",
       "<table border=\"1\" class=\"dataframe\">\n",
       "  <thead>\n",
       "    <tr style=\"text-align: right;\">\n",
       "      <th></th>\n",
       "      <th>ID</th>\n",
       "      <th>CASE_NUMBER</th>\n",
       "      <th>DATE</th>\n",
       "      <th>BLOCK</th>\n",
       "      <th>IUCR</th>\n",
       "      <th>PRIMARY_TYPE</th>\n",
       "      <th>DESCRIPTION</th>\n",
       "      <th>LOCATION_DESCRIPTION</th>\n",
       "      <th>ARREST</th>\n",
       "      <th>DOMESTIC</th>\n",
       "      <th>...</th>\n",
       "      <th>WARD</th>\n",
       "      <th>COMMUNITY_AREA_NUMBER</th>\n",
       "      <th>FBICODE</th>\n",
       "      <th>X_COORDINATE</th>\n",
       "      <th>Y_COORDINATE</th>\n",
       "      <th>YEAR</th>\n",
       "      <th>UPDATEDON</th>\n",
       "      <th>LATITUDE</th>\n",
       "      <th>LONGITUDE</th>\n",
       "      <th>LOCATION</th>\n",
       "    </tr>\n",
       "  </thead>\n",
       "  <tbody>\n",
       "    <tr>\n",
       "      <th>0</th>\n",
       "      <td>3512276</td>\n",
       "      <td>HK587712</td>\n",
       "      <td>08/28/2004 05:50:56 PM</td>\n",
       "      <td>047XX S KEDZIE AVE</td>\n",
       "      <td>890</td>\n",
       "      <td>THEFT</td>\n",
       "      <td>FROM BUILDING</td>\n",
       "      <td>SMALL RETAIL STORE</td>\n",
       "      <td>FALSE</td>\n",
       "      <td>FALSE</td>\n",
       "      <td>...</td>\n",
       "      <td>14</td>\n",
       "      <td>58</td>\n",
       "      <td>6</td>\n",
       "      <td>1155838</td>\n",
       "      <td>1873050</td>\n",
       "      <td>2004</td>\n",
       "      <td>02/10/2018 03:50:01 PM</td>\n",
       "      <td>41.8074405</td>\n",
       "      <td>-87.70395585</td>\n",
       "      <td>(41.8074405, -87.703955849)</td>\n",
       "    </tr>\n",
       "    <tr>\n",
       "      <th>1</th>\n",
       "      <td>3406613</td>\n",
       "      <td>HK456306</td>\n",
       "      <td>06/26/2004 12:40:00 PM</td>\n",
       "      <td>009XX N CENTRAL PARK AVE</td>\n",
       "      <td>820</td>\n",
       "      <td>THEFT</td>\n",
       "      <td>$500 AND UNDER</td>\n",
       "      <td>OTHER</td>\n",
       "      <td>FALSE</td>\n",
       "      <td>FALSE</td>\n",
       "      <td>...</td>\n",
       "      <td>27</td>\n",
       "      <td>23</td>\n",
       "      <td>6</td>\n",
       "      <td>1152206</td>\n",
       "      <td>1906127</td>\n",
       "      <td>2004</td>\n",
       "      <td>02/28/2018 03:56:25 PM</td>\n",
       "      <td>41.89827996</td>\n",
       "      <td>-87.71640551</td>\n",
       "      <td>(41.898279962, -87.716405505)</td>\n",
       "    </tr>\n",
       "    <tr>\n",
       "      <th>2</th>\n",
       "      <td>8002131</td>\n",
       "      <td>HT233595</td>\n",
       "      <td>04/04/2011 05:45:00 AM</td>\n",
       "      <td>043XX S WABASH AVE</td>\n",
       "      <td>820</td>\n",
       "      <td>THEFT</td>\n",
       "      <td>$500 AND UNDER</td>\n",
       "      <td>NURSING HOME/RETIREMENT HOME</td>\n",
       "      <td>FALSE</td>\n",
       "      <td>FALSE</td>\n",
       "      <td>...</td>\n",
       "      <td>3</td>\n",
       "      <td>38</td>\n",
       "      <td>6</td>\n",
       "      <td>1177436</td>\n",
       "      <td>1876313</td>\n",
       "      <td>2011</td>\n",
       "      <td>02/10/2018 03:50:01 PM</td>\n",
       "      <td>41.81593313</td>\n",
       "      <td>-87.62464213</td>\n",
       "      <td>(41.815933131, -87.624642127)</td>\n",
       "    </tr>\n",
       "  </tbody>\n",
       "</table>\n",
       "<p>3 rows × 22 columns</p>\n",
       "</div>"
      ],
      "text/plain": [
       "        ID CASE_NUMBER                    DATE                     BLOCK IUCR  \\\n",
       "0  3512276    HK587712  08/28/2004 05:50:56 PM        047XX S KEDZIE AVE  890   \n",
       "1  3406613    HK456306  06/26/2004 12:40:00 PM  009XX N CENTRAL PARK AVE  820   \n",
       "2  8002131    HT233595  04/04/2011 05:45:00 AM        043XX S WABASH AVE  820   \n",
       "\n",
       "  PRIMARY_TYPE     DESCRIPTION          LOCATION_DESCRIPTION ARREST DOMESTIC  \\\n",
       "0        THEFT   FROM BUILDING            SMALL RETAIL STORE  FALSE    FALSE   \n",
       "1        THEFT  $500 AND UNDER                         OTHER  FALSE    FALSE   \n",
       "2        THEFT  $500 AND UNDER  NURSING HOME/RETIREMENT HOME  FALSE    FALSE   \n",
       "\n",
       "   ... WARD COMMUNITY_AREA_NUMBER FBICODE X_COORDINATE Y_COORDINATE  YEAR  \\\n",
       "0  ...   14                    58       6      1155838      1873050  2004   \n",
       "1  ...   27                    23       6      1152206      1906127  2004   \n",
       "2  ...    3                    38       6      1177436      1876313  2011   \n",
       "\n",
       "                UPDATEDON     LATITUDE     LONGITUDE  \\\n",
       "0  02/10/2018 03:50:01 PM   41.8074405  -87.70395585   \n",
       "1  02/28/2018 03:56:25 PM  41.89827996  -87.71640551   \n",
       "2  02/10/2018 03:50:01 PM  41.81593313  -87.62464213   \n",
       "\n",
       "                        LOCATION  \n",
       "0    (41.8074405, -87.703955849)  \n",
       "1  (41.898279962, -87.716405505)  \n",
       "2  (41.815933131, -87.624642127)  \n",
       "\n",
       "[3 rows x 22 columns]"
      ]
     },
     "execution_count": 40,
     "metadata": {},
     "output_type": "execute_result"
    }
   ],
   "source": [
    "# Your code goes here\n",
    "rc = spark.read.csv('reported-crimes.csv', header=True)\n",
    "print(list(rc.toPandas().columns))\n",
    "rc.toPandas().head(3)"
   ]
  },
  {
   "cell_type": "markdown",
   "metadata": {
    "id": "DknyPxfkFFVz"
   },
   "source": [
    "## What percentage of reported crimes resulted in an arrest?"
   ]
  },
  {
   "cell_type": "code",
   "execution_count": 33,
   "metadata": {
    "ExecuteTime": {
     "end_time": "2021-10-11T19:24:33.404667Z",
     "start_time": "2021-10-11T19:24:33.402544Z"
    },
    "id": "d9S4hZanFPCf"
   },
   "outputs": [
    {
     "data": {
      "text/plain": [
       "(30.58161350844278, 'percent out of', 533, 'reports')"
      ]
     },
     "execution_count": 33,
     "metadata": {},
     "output_type": "execute_result"
    }
   ],
   "source": [
    "# Your code goes here\n",
    "(rc.filter(F.col('ARREST') == 'TRUE').count() / rc.count()) * 100, 'percent out of', rc.count(), 'reports'"
   ]
  },
  {
   "cell_type": "markdown",
   "metadata": {
    "id": "uToZfa01Fqi9"
   },
   "source": [
    "## What are the top 3 locations for reported crimes?"
   ]
  },
  {
   "cell_type": "code",
   "execution_count": 39,
   "metadata": {
    "ExecuteTime": {
     "end_time": "2021-10-11T19:24:37.437255Z",
     "start_time": "2021-10-11T19:24:37.435174Z"
    },
    "id": "B3bxfL6wFvjJ"
   },
   "outputs": [
    {
     "name": "stdout",
     "output_type": "stream",
     "text": [
      "  LOCATION_DESCRIPTION  count\n",
      "0               STREET    136\n",
      "1            RESIDENCE     84\n",
      "2             SIDEWALK     64\n",
      "                        LOCATION  count\n",
      "0                           None      4\n",
      "1  (41.889453169, -87.627994833)      2\n",
      "2  (41.976290414, -87.905227221)      2\n"
     ]
    }
   ],
   "source": [
    "# Your code goes here\n",
    "print(rc.groupby('LOCATION_DESCRIPTION').count().sort(F.desc('count')).limit(3).toPandas())\n",
    "print(rc.groupby('LOCATION').count().sort(F.desc('count')).limit(3).toPandas())\n"
   ]
  },
  {
   "cell_type": "markdown",
   "metadata": {
    "id": "s8K4bvnfqUMj"
   },
   "source": [
    "## What are the top 3 locations for reported thefts?"
   ]
  },
  {
   "cell_type": "code",
   "execution_count": 47,
   "metadata": {
    "ExecuteTime": {
     "end_time": "2021-10-11T19:24:39.930450Z",
     "start_time": "2021-10-11T19:24:39.928468Z"
    },
    "id": "VYSazKB8qUMj"
   },
   "outputs": [
    {
     "data": {
      "text/html": [
       "<div>\n",
       "<style scoped>\n",
       "    .dataframe tbody tr th:only-of-type {\n",
       "        vertical-align: middle;\n",
       "    }\n",
       "\n",
       "    .dataframe tbody tr th {\n",
       "        vertical-align: top;\n",
       "    }\n",
       "\n",
       "    .dataframe thead th {\n",
       "        text-align: right;\n",
       "    }\n",
       "</style>\n",
       "<table border=\"1\" class=\"dataframe\">\n",
       "  <thead>\n",
       "    <tr style=\"text-align: right;\">\n",
       "      <th></th>\n",
       "      <th>LOCATION_DESCRIPTION</th>\n",
       "      <th>count</th>\n",
       "    </tr>\n",
       "  </thead>\n",
       "  <tbody>\n",
       "    <tr>\n",
       "      <th>0</th>\n",
       "      <td>STREET</td>\n",
       "      <td>31</td>\n",
       "    </tr>\n",
       "    <tr>\n",
       "      <th>1</th>\n",
       "      <td>GROCERY FOOD STORE</td>\n",
       "      <td>7</td>\n",
       "    </tr>\n",
       "    <tr>\n",
       "      <th>2</th>\n",
       "      <td>DEPARTMENT STORE</td>\n",
       "      <td>7</td>\n",
       "    </tr>\n",
       "  </tbody>\n",
       "</table>\n",
       "</div>"
      ],
      "text/plain": [
       "  LOCATION_DESCRIPTION  count\n",
       "0               STREET     31\n",
       "1   GROCERY FOOD STORE      7\n",
       "2     DEPARTMENT STORE      7"
      ]
     },
     "execution_count": 47,
     "metadata": {},
     "output_type": "execute_result"
    }
   ],
   "source": [
    "# Your code goes here\n",
    "\n",
    "rc.filter(F.col('PRIMARY_TYPE') == 'THEFT').groupby(F.col('LOCATION_DESCRIPTION')).count().sort(F.desc('count')).limit(3).toPandas()\n"
   ]
  },
  {
   "cell_type": "markdown",
   "metadata": {
    "id": "vI6uPOV7GCAH"
   },
   "source": [
    "## What is the most common primary type of crime in district 22?\n"
   ]
  },
  {
   "cell_type": "code",
   "execution_count": 52,
   "metadata": {
    "ExecuteTime": {
     "end_time": "2021-10-11T19:24:43.025574Z",
     "start_time": "2021-10-11T19:24:43.023609Z"
    },
    "id": "ojh8eHFUGNG9"
   },
   "outputs": [
    {
     "name": "stdout",
     "output_type": "stream",
     "text": [
      "+------------+-----+\n",
      "|PRIMARY_TYPE|count|\n",
      "+------------+-----+\n",
      "|       THEFT|    6|\n",
      "|    BURGLARY|    2|\n",
      "|     BATTERY|    1|\n",
      "+------------+-----+\n",
      "only showing top 3 rows\n",
      "\n"
     ]
    }
   ],
   "source": [
    "# Your code goes here\n",
    "rc.filter(F.col('DISTRICT') == '22').groupby(F.col('PRIMARY_TYPE')).count().sort(F.desc('count')).show(3)"
   ]
  },
  {
   "cell_type": "markdown",
   "metadata": {
    "id": "9yUHKG9oqUMj"
   },
   "source": [
    "## What are the suffixes where crime is taking place?\n",
    "\n",
    "Inspect the `BLOCK` column to observe common suffixes are `AVE, BLVD, ST, DR, PL, RD` (there's a few more even). Create a dataframe that contains the frequency of each block suffix, e.g. showing there are 258 `AVE` suffixes and 191 `ST` suffixes.\n"
   ]
  },
  {
   "cell_type": "code",
   "execution_count": 54,
   "metadata": {
    "ExecuteTime": {
     "end_time": "2021-10-11T19:24:45.384087Z",
     "start_time": "2021-10-11T19:24:45.381683Z"
    },
    "id": "iEAITw-4qUMk"
   },
   "outputs": [
    {
     "data": {
      "text/html": [
       "<div>\n",
       "<style scoped>\n",
       "    .dataframe tbody tr th:only-of-type {\n",
       "        vertical-align: middle;\n",
       "    }\n",
       "\n",
       "    .dataframe tbody tr th {\n",
       "        vertical-align: top;\n",
       "    }\n",
       "\n",
       "    .dataframe thead th {\n",
       "        text-align: right;\n",
       "    }\n",
       "</style>\n",
       "<table border=\"1\" class=\"dataframe\">\n",
       "  <thead>\n",
       "    <tr style=\"text-align: right;\">\n",
       "      <th>suffix</th>\n",
       "      <th>PL</th>\n",
       "      <th>DR</th>\n",
       "      <th>AV</th>\n",
       "      <th>BROADWAY</th>\n",
       "      <th>E</th>\n",
       "      <th>PKWY</th>\n",
       "      <th>BL</th>\n",
       "      <th>CT</th>\n",
       "      <th>D</th>\n",
       "      <th>RD</th>\n",
       "      <th>AVE</th>\n",
       "      <th>Ave</th>\n",
       "      <th>TER</th>\n",
       "      <th>BLVD</th>\n",
       "      <th>ST</th>\n",
       "    </tr>\n",
       "  </thead>\n",
       "  <tbody>\n",
       "    <tr>\n",
       "      <th>count</th>\n",
       "      <td>9</td>\n",
       "      <td>11</td>\n",
       "      <td>25</td>\n",
       "      <td>2</td>\n",
       "      <td>1</td>\n",
       "      <td>2</td>\n",
       "      <td>2</td>\n",
       "      <td>1</td>\n",
       "      <td>1</td>\n",
       "      <td>13</td>\n",
       "      <td>258</td>\n",
       "      <td>1</td>\n",
       "      <td>1</td>\n",
       "      <td>15</td>\n",
       "      <td>191</td>\n",
       "    </tr>\n",
       "  </tbody>\n",
       "</table>\n",
       "</div>"
      ],
      "text/plain": [
       "suffix  PL  DR  AV  BROADWAY  E  PKWY  BL  CT  D  RD  AVE  Ave  TER  BLVD   ST\n",
       "count    9  11  25         2  1     2   2   1  1  13  258    1    1    15  191"
      ]
     },
     "execution_count": 54,
     "metadata": {},
     "output_type": "execute_result"
    }
   ],
   "source": [
    "# Your code goes here\n",
    "\n",
    "\n",
    "rc.select(\n",
    "    F.reverse(F.split('BLOCK', ' '))[0].alias('suffix')\n",
    ").groupby('suffix').count().toPandas().set_index('suffix').T"
   ]
  },
  {
   "cell_type": "code",
   "execution_count": 55,
   "metadata": {},
   "outputs": [
    {
     "data": {
      "text/html": [
       "<div>\n",
       "<style scoped>\n",
       "    .dataframe tbody tr th:only-of-type {\n",
       "        vertical-align: middle;\n",
       "    }\n",
       "\n",
       "    .dataframe tbody tr th {\n",
       "        vertical-align: top;\n",
       "    }\n",
       "\n",
       "    .dataframe thead th {\n",
       "        text-align: right;\n",
       "    }\n",
       "</style>\n",
       "<table border=\"1\" class=\"dataframe\">\n",
       "  <thead>\n",
       "    <tr style=\"text-align: right;\">\n",
       "      <th></th>\n",
       "      <th>sum(AVE)</th>\n",
       "      <th>sum(BLVD)</th>\n",
       "      <th>sum(ST)</th>\n",
       "      <th>sum(DR)</th>\n",
       "      <th>sum(PL)</th>\n",
       "      <th>sum(RD)</th>\n",
       "      <th>sum(PKWY)</th>\n",
       "      <th>sum(CT)</th>\n",
       "    </tr>\n",
       "  </thead>\n",
       "  <tbody>\n",
       "    <tr>\n",
       "      <th>0</th>\n",
       "      <td>284</td>\n",
       "      <td>15</td>\n",
       "      <td>191</td>\n",
       "      <td>11</td>\n",
       "      <td>9</td>\n",
       "      <td>13</td>\n",
       "      <td>2</td>\n",
       "      <td>1</td>\n",
       "    </tr>\n",
       "  </tbody>\n",
       "</table>\n",
       "</div>"
      ],
      "text/plain": [
       "   sum(AVE)  sum(BLVD)  sum(ST)  sum(DR)  sum(PL)  sum(RD)  sum(PKWY)  sum(CT)\n",
       "0       284         15      191       11        9       13          2        1"
      ]
     },
     "execution_count": 55,
     "metadata": {},
     "output_type": "execute_result"
    }
   ],
   "source": [
    "rc.select(F.lower('BLOCK').alias('block')) \\\n",
    "    .select(\n",
    "    F.col('block').endswith('ave').alias('AVE').cast('integer'),\n",
    "    F.col('block').endswith('av').alias('AV').cast('integer'),\n",
    "    F.col('block').endswith('blvd').alias('BLVD').cast('integer'),\n",
    "    F.col('block').endswith('st').alias('ST').cast('integer'),\n",
    "    F.col('block').endswith('dr').alias('DR').cast('integer'),\n",
    "    F.col('block').endswith('pl').alias('PL').cast('integer'),\n",
    "    F.col('block').endswith('rd').alias('RD').cast('integer'),\n",
    "    F.col('block').endswith('pkwy').alias('PKWY').cast('integer'),\n",
    "    F.col('block').endswith('ct').alias('CT').cast('integer')\n",
    ").agg(\n",
    "    (F.sum('AVE') + F.sum('AV')).alias('sum(AVE)'), \n",
    "    F.sum('BLVD'), F.sum('ST'), \n",
    "    F.sum('DR'), F.sum('PL'), \n",
    "    F.sum('RD'), F.sum('PKWY'), \n",
    "    F.sum('CT')\n",
    ").toPandas()"
   ]
  },
  {
   "cell_type": "code",
   "execution_count": null,
   "metadata": {},
   "outputs": [],
   "source": []
  }
 ],
 "metadata": {
  "colab": {
   "include_colab_link": true,
   "name": "exercises_week_7.ipynb",
   "provenance": []
  },
  "kernelspec": {
   "display_name": "Python 3 (ipykernel)",
   "language": "python",
   "name": "python3"
  },
  "language_info": {
   "codemirror_mode": {
    "name": "ipython",
    "version": 3
   },
   "file_extension": ".py",
   "mimetype": "text/x-python",
   "name": "python",
   "nbconvert_exporter": "python",
   "pygments_lexer": "ipython3",
   "version": "3.7.9"
  },
  "toc": {
   "base_numbering": 1,
   "nav_menu": {},
   "number_sections": true,
   "sideBar": true,
   "skip_h1_title": false,
   "title_cell": "Table of Contents",
   "title_sidebar": "Contents",
   "toc_cell": false,
   "toc_position": {},
   "toc_section_display": true,
   "toc_window_display": true
  }
 },
 "nbformat": 4,
 "nbformat_minor": 4
}
